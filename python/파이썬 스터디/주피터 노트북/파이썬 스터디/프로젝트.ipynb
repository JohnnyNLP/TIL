{
 "cells": [
  {
   "cell_type": "code",
   "execution_count": 40,
   "metadata": {},
   "outputs": [
    {
     "name": "stdout",
     "output_type": "stream",
     "text": [
      "      day                       word       meaning\n",
      "289  Day1                     master          숙달하다\n",
      "290  Day1                  expect of      ~에게 기대하다\n",
      "291  Day1                copy editor        교열 편집자\n",
      "292  Day1    chief financial officer  재무최고책임자(CEO)\n",
      "293  Day1                   announce          발표하다\n",
      "294  Day1                appointment            임명\n",
      "295  Day1        probationary period         수습 기간\n",
      "296  Day1              city employee         시 공무원\n",
      "297  Day1              eligible to+R     ~할 자격이 있는\n",
      "298  Day1           beneficial to+명사        ~에 유익한\n",
      "299  Day1            convenient to+R      ~하기에 편리한\n",
      "300  Day1             relevant to+명사        ~와 관련된\n",
      "301  Day1                     agency           대행사\n",
      "302  Day1                     obtain            얻다\n",
      "303  Day1                     permit     허가증, 허가하다\n",
      "304  Day1               required for        ~에 필요한\n",
      "305  Day1               confirmation            확인\n",
      "306  Day1               a handful of           소수의\n",
      "307  Day1                    current           현재의\n",
      "308  Day1                    upscale    고급스러운, 상류의\n",
      "309  Day1                     return          반품하다\n",
      "310  Day1                      occur    일어나다, 발생하다\n",
      "311  Day1                    perform          수행하다\n",
      "312  Day1                   detailed           자세한\n",
      "313  Day1         financial analysis         재무 분석\n",
      "314  Day1              automatically         자동적으로\n",
      "315  Day1               city council           시의회\n",
      "316  Day1                  statement    성명(서), 명세서\n",
      "317  Day1                    funding      자금, 재정지원\n",
      "318  Day1                       bill            법안\n",
      "..    ...                        ...           ...\n",
      "528  Day1                    recruit          모집하다\n",
      "529  Day1                  personnel        인원, 직원\n",
      "530  Day1                   promptly            즉시\n",
      "531  Day1                  intricacy     복잡함, 번거로움\n",
      "532  Day1              well attended       참가자가 많은\n",
      "533  Day1                 subsequent   그 다음으로 이어지는\n",
      "534  Day1               deliberately   의도적으로, 신중하게\n",
      "535  Day1          be compelled to+R   ~하지 않을 수 없다\n",
      "536  Day1       in one's capacity as     ~로서의 자격으로\n",
      "537  Day1                    utterly          전적으로\n",
      "538  Day1                 gratifying    만족스러운, 흐뭇한\n",
      "539  Day1                preliminary           예비의\n",
      "540  Day1                 in need of        ~가 필요한\n",
      "541  Day1                       dire      심각한, 엄청난\n",
      "542  Day1                 demolition        폭파, 파괴\n",
      "543  Day1                    outcome            결과\n",
      "544  Day1                intend to+R       ~할 의도이다\n",
      "545  Day1                 inevitable          불가피한\n",
      "546  Day1                    broaden           넓히다\n",
      "547  Day1                 make sense  이치에 맞다, 타당하다\n",
      "548  Day1                accommodate          수용하다\n",
      "549  Day1               public input         시민 의견\n",
      "550  Day1          in response to+명사    ~에 대한 응답으로\n",
      "551  Day1                 invaluable           귀중한\n",
      "552  Day1  be in one's best interest  ~에게 최대의 이익이다\n",
      "553  Day1                     intact       손상되지 않은\n",
      "554  Day1                 tremendous           엄청난\n",
      "555  Day1                 worthwhile         가치 있는\n",
      "556  Day1                   presence        참석, 존재\n",
      "557  Day1                   relocate          이전하다\n",
      "\n",
      "[269 rows x 3 columns]\n"
     ]
    }
   ],
   "source": [
    "import os\n",
    "import pandas as pd\n",
    "import random as rd\n",
    "\n",
    "os.chdir(\"C:\\\\Users\\\\Seongsu Park\\\\Desktop\\\\Git\\\\writings\\\\과외 자료집\\토익 기출문제집 단어\")\n",
    "word_list = pd.read_excel('시험장.xlsx', sheet_name = 'Sheet1', index_col=None)\n",
    "days = ['Day1']\n",
    "\n",
    "word_list_day_1 = word_list[word_list['day'].isin(days)]\n",
    "print(word_list_day_1)\n",
    "#word_list_day_1 = word_list[(word_list['day'].is('Day1'))]\n"
   ]
  }
 ],
 "metadata": {
  "kernelspec": {
   "display_name": "Python 3",
   "language": "python",
   "name": "python3"
  },
  "language_info": {
   "codemirror_mode": {
    "name": "ipython",
    "version": 3
   },
   "file_extension": ".py",
   "mimetype": "text/x-python",
   "name": "python",
   "nbconvert_exporter": "python",
   "pygments_lexer": "ipython3",
   "version": "3.7.3"
  }
 },
 "nbformat": 4,
 "nbformat_minor": 2
}
