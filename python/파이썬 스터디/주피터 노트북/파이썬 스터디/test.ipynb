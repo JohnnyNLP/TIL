{
 "cells": [
  {
   "cell_type": "code",
   "execution_count": null,
   "metadata": {
    "scrolled": true
   },
   "outputs": [
    {
     "name": "stdout",
     "output_type": "stream",
     "text": [
      "1,2,3\n"
     ]
    }
   ],
   "source": [
    "#test\n",
    "print('1,2,3')"
   ]
  },
  {
   "cell_type": "code",
   "execution_count": null,
   "metadata": {},
   "outputs": [],
   "source": [
    "#quiz 2 - 5번\n",
    "import random\n",
    "\n",
    "list1 = {'가위', '바위', '보'}\n",
    "while(True):\n",
    "    human = input('가위, 바위, 보 중 하나를 선택해주세요.')\n",
    "    if (human in list1) :\n",
    "        break\n",
    "    else :\n",
    "        print ('올바른 패를 내주세요, 휴먼')\n",
    "\n",
    "computer = random.choice(list1)\n",
    "print('인간이 낸 것 :', human)\n"
   ]
  },
  {
   "cell_type": "code",
   "execution_count": 6,
   "metadata": {},
   "outputs": [
    {
     "name": "stdout",
     "output_type": "stream",
     "text": [
      "['한국', '중국', '미국', '러시아', '일본', '캐나다', '호주']\n",
      "{'한국': '서울', '중국': '베이징', '미국': '워싱턴', '러시아': '모스크바', '일본': '도쿄', '캐나다': '오타와', '호주': '캔버라'}\n"
     ]
    }
   ],
   "source": [
    "#quiz 3 - 2번\n",
    "nation_list = ['한국', '중국', '미국', '러시아', '일본', '캐나다', '호주']\n",
    "capital_list = ['서울', '베이징', '워싱턴', '모스크바', '도쿄', '오타와', '캔버라']\n",
    "print(nation_list)\n",
    "nation_capital = {nation : capital for nation, capital in zip(nation_list, capital_list)}\n",
    "print(nation_capital)"
   ]
  },
  {
   "cell_type": "code",
   "execution_count": 9,
   "metadata": {},
   "outputs": [
    {
     "name": "stdout",
     "output_type": "stream",
     "text": [
      "가위, 바위, 보 중 하나를 선택해주세요.가위\n",
      "졌습니다.\n",
      "인간이 낸 것 : 가위 \n",
      "컴퓨터가 낸 것 : 바위\n",
      "press any key\n"
     ]
    }
   ],
   "source": [
    "#가위바위보\n",
    "\n",
    "import random\n",
    "\n",
    "while(True):\n",
    "    human = input('가위, 바위, 보 중 하나를 선택해주세요.')\n",
    "    if (human in ['가위', '바위', '보']) :\n",
    "        wintable = {'가위':'보', '바위':'가위', '보':'바위'}\n",
    "        computer = random.choice(['가위', '바위', '보'])\n",
    "        if (computer == wintable[human]):\n",
    "            print('이겼습니다.')\n",
    "        elif (computer == human) :\n",
    "            print('비겼습니다.')\n",
    "        else : print('졌습니다.')\n",
    "        print('인간이 낸 것 :', human, '\\n컴퓨터가 낸 것 :', computer)\n",
    "        if not input('press any key'):\n",
    "            break\n",
    "    else :\n",
    "        print ('올바른 패를 내주세요, 휴먼')\n",
    "        raise ValueError\n"
   ]
  },
  {
   "cell_type": "code",
   "execution_count": 11,
   "metadata": {},
   "outputs": [
    {
     "name": "stdout",
     "output_type": "stream",
     "text": [
      "['갈망', '부식', '열일곱', '새벽', '용광로', '아홉', '상냥함', '귀향', '하나', '화물칸']\n",
      "갈망/부식/열일곱/새벽/용광로/아홉/상냥함/귀향/하나/화물칸\n"
     ]
    }
   ],
   "source": [
    "#quiz 3 5-1\n",
    "str1 = '갈망, 부식, 열일곱, 새벽, 용광로, 아홉, 상냥함, 귀향, 하나, 화물칸'\n",
    "list1 = str1.replace(' ','').split(',')\n",
    "print(list1)\n",
    "print('/'.join(list1)) # join은 str 내부 함수기 때문에 구분해주고자 하는 문자열에서 함수를 불러와야 한다."
   ]
  },
  {
   "cell_type": "code",
   "execution_count": 12,
   "metadata": {},
   "outputs": [
    {
     "name": "stdout",
     "output_type": "stream",
     "text": [
      "\"19960109\"와 같은 형태로 날짜를 입력하세요>20200422\n",
      "-282\n"
     ]
    }
   ],
   "source": [
    "#quiz 3 6-1\n",
    "from datetime import datetime, date, time\n",
    "\n",
    "# 날짜를 입력받는다.\n",
    "str1 = input('\"19960109\"와 같은 형태로 날짜를 입력하세요>')\n",
    "dt1 = datetime.strptime(str1, \"%Y%m%d\")\n",
    "\n",
    "# 현재 날짜와 비교한다.\n",
    "dt2 = datetime.now().replace(hour=0, minute=0, second=0)\n",
    "delta = dt2 - dt1\n",
    "\n",
    "# 현재와 며칠 전/후인지 출력한다.\n",
    "print(delta.days)"
   ]
  },
  {
   "cell_type": "code",
   "execution_count": null,
   "metadata": {},
   "outputs": [],
   "source": []
  }
 ],
 "metadata": {
  "kernelspec": {
   "display_name": "Python 3",
   "language": "python",
   "name": "python3"
  }
 },
 "nbformat": 4,
 "nbformat_minor": 2
}
