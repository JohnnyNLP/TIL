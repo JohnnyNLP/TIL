{
 "cells": [
  {
   "cell_type": "markdown",
   "metadata": {},
   "source": [
    "<center>지승훈</center>"
   ]
  },
  {
   "cell_type": "markdown",
   "metadata": {},
   "source": [
    "# NumPy\n",
    "\n",
    "다차원 배열과 행렬, 그리고 그것에 대한 여러 가지 연산을 지원하는 파이썬 라이브러리\n",
    "\n",
    "일반적인 파이썬 연산에 비해 빠른 속도를 자랑함(파이썬 말고도 C언어로 짠 내부 구조)"
   ]
  },
  {
   "cell_type": "code",
   "execution_count": null,
   "metadata": {},
   "outputs": [],
   "source": [
    "import numpy as np"
   ]
  },
  {
   "cell_type": "markdown",
   "metadata": {},
   "source": [
    "## 일반 파이썬과 속도 비교해보기"
   ]
  },
  {
   "cell_type": "code",
   "execution_count": null,
   "metadata": {},
   "outputs": [],
   "source": [
    "%%time\n",
    "ssum = 0\n",
    "for i in range(10000000):\n",
    "    ssum += i"
   ]
  },
  {
   "cell_type": "code",
   "execution_count": null,
   "metadata": {},
   "outputs": [],
   "source": [
    "%%time\n",
    "ssum = sum([x for x in range(10000000)])"
   ]
  },
  {
   "cell_type": "code",
   "execution_count": null,
   "metadata": {},
   "outputs": [],
   "source": [
    "%%time\n",
    "ssum = np.sum(np.arange(10000000))"
   ]
  },
  {
   "cell_type": "markdown",
   "metadata": {},
   "source": [
    "## NumPy의 자료구조인 numpy.ndarray"
   ]
  },
  {
   "cell_type": "code",
   "execution_count": null,
   "metadata": {},
   "outputs": [],
   "source": [
    "# 기본적인 넘파이 배열 만들기\n",
    "a = np.array([1, 2, 3])\n",
    "print(a)"
   ]
  },
  {
   "cell_type": "code",
   "execution_count": null,
   "metadata": {},
   "outputs": [],
   "source": [
    "# 2x2 행렬 만들기\n",
    "a = np.array([[1, 2], [3, 4]])\n",
    "print(a)"
   ]
  },
  {
   "cell_type": "code",
   "execution_count": null,
   "metadata": {},
   "outputs": [],
   "source": [
    "# 일정 범위의 배열 만들기\n",
    "a = np.arange(10)\n",
    "print(a)"
   ]
  },
  {
   "cell_type": "code",
   "execution_count": null,
   "metadata": {},
   "outputs": [],
   "source": [
    "a = np.linspace(0, 10, 20)\n",
    "print(a)"
   ]
  },
  {
   "cell_type": "code",
   "execution_count": null,
   "metadata": {},
   "outputs": [],
   "source": [
    "# 배열의 형상과 차원, 자료형 알아보기\n",
    "a = np.arange(24).reshape(2, 3, 4)\n",
    "print(a, a.shape, a.ndim, a.dtype, sep='\\n\\n')\n",
    "# 참고: 배열의 차원은 가장 먼저 접근하는 인덱스의 차원일수록 고차원이다"
   ]
  },
  {
   "cell_type": "code",
   "execution_count": null,
   "metadata": {},
   "outputs": [],
   "source": [
    "# 모든 원소의 값이 0인 행렬 만들기\n",
    "a = np.zeros([3, 3]) # 배열의 형상을 입력하는 인수로는 튜플과 리스트 모두 사용 가능\n",
    "print(a)"
   ]
  },
  {
   "cell_type": "code",
   "execution_count": null,
   "metadata": {},
   "outputs": [],
   "source": [
    "# 모든 원소의 값이 1인 행렬 만들기\n",
    "a = np.ones([3, 3, 3])\n",
    "print(a)"
   ]
  },
  {
   "cell_type": "code",
   "execution_count": null,
   "metadata": {},
   "outputs": [],
   "source": [
    "# 지정한 범위 안의 무작위 정수로 이루어진 행렬 만들기\n",
    "a = np.random.randint(0, 10, (10, 10))\n",
    "print(a)"
   ]
  },
  {
   "cell_type": "code",
   "execution_count": null,
   "metadata": {},
   "outputs": [],
   "source": [
    "# 표준정규분포를 따르는 행렬 만들기\n",
    "a = np.random.randn(10, 3)\n",
    "print(a)"
   ]
  },
  {
   "cell_type": "markdown",
   "metadata": {},
   "source": [
    "## 인덱싱과 슬라이싱"
   ]
  },
  {
   "cell_type": "code",
   "execution_count": null,
   "metadata": {},
   "outputs": [],
   "source": [
    "a = np.arange(36).reshape(6, 6)\n",
    "print(a)"
   ]
  },
  {
   "cell_type": "code",
   "execution_count": null,
   "metadata": {},
   "outputs": [],
   "source": [
    "a[2, 3] # == a[2][3]"
   ]
  },
  {
   "cell_type": "code",
   "execution_count": null,
   "metadata": {},
   "outputs": [],
   "source": [
    "a[2] # == a[2, :]"
   ]
  },
  {
   "cell_type": "code",
   "execution_count": null,
   "metadata": {},
   "outputs": [],
   "source": [
    "a[:, 2]"
   ]
  },
  {
   "cell_type": "markdown",
   "metadata": {},
   "source": [
    "주의: NumPy의 인덱싱은 copy가 아닌 view이다."
   ]
  },
  {
   "cell_type": "code",
   "execution_count": null,
   "metadata": {},
   "outputs": [],
   "source": [
    "a[:, 2] = 0\n",
    "print(a)"
   ]
  },
  {
   "cell_type": "code",
   "execution_count": null,
   "metadata": {},
   "outputs": [],
   "source": [
    "# fancy indexing\n",
    "a = np.arange(36).reshape(6, 6)\n",
    "print(a)"
   ]
  },
  {
   "cell_type": "code",
   "execution_count": null,
   "metadata": {},
   "outputs": [],
   "source": [
    "a[[2, 5]] # == a[[2, 5], :]"
   ]
  },
  {
   "cell_type": "code",
   "execution_count": null,
   "metadata": {},
   "outputs": [],
   "source": [
    "a[:, [3, 2]] # 인덱싱과 슬라이싱의 방법은 무궁무진하지만 여기까지!"
   ]
  },
  {
   "cell_type": "markdown",
   "metadata": {},
   "source": [
    "## 행렬의 연산"
   ]
  },
  {
   "cell_type": "code",
   "execution_count": null,
   "metadata": {},
   "outputs": [],
   "source": [
    "# 행렬의 덧셈\n",
    "a = np.arange(10).reshape(2, 5)\n",
    "b = np.full((2, 5), 100)\n",
    "print(a, b, a + b, sep='\\n\\n')"
   ]
  },
  {
   "cell_type": "code",
   "execution_count": null,
   "metadata": {},
   "outputs": [],
   "source": [
    "# 행렬의 곱셈\n",
    "print(a * b)"
   ]
  },
  {
   "cell_type": "code",
   "execution_count": null,
   "metadata": {},
   "outputs": [],
   "source": [
    "#행렬의 모든 값 더하기\n",
    "a.sum()"
   ]
  },
  {
   "cell_type": "code",
   "execution_count": null,
   "metadata": {},
   "outputs": [],
   "source": [
    "a.sum(axis=0)"
   ]
  },
  {
   "cell_type": "code",
   "execution_count": null,
   "metadata": {},
   "outputs": [],
   "source": [
    "a.sum(axis=1)"
   ]
  },
  {
   "cell_type": "code",
   "execution_count": null,
   "metadata": {},
   "outputs": [],
   "source": [
    "# 행렬곱\n",
    "a = np.array([[1, 2], [3, 4]])\n",
    "b = np.array([[5, 6], [7, 8]])\n",
    "print(a, b, np.dot(a, b), sep='\\n\\n')\n",
    "print('*'*20)\n",
    "print(np.matmul(a, b)) \n",
    "\n",
    "# np.dot과 np.matmul은 2차원 행렬에서는\n",
    "#계산 방식이 같지만 3차원 이상에서는 결과가 다르다."
   ]
  },
  {
   "cell_type": "code",
   "execution_count": null,
   "metadata": {},
   "outputs": [],
   "source": [
    "# 행렬과 조건식\n",
    "a = np.random.randint(0, 10, 7)\n",
    "print(a)"
   ]
  },
  {
   "cell_type": "code",
   "execution_count": null,
   "metadata": {},
   "outputs": [],
   "source": [
    "a > 5"
   ]
  },
  {
   "cell_type": "code",
   "execution_count": null,
   "metadata": {},
   "outputs": [],
   "source": [
    "a[a > 5]"
   ]
  },
  {
   "cell_type": "markdown",
   "metadata": {},
   "source": [
    "# matplotlib\n",
    "\n",
    "파이썬 자료의 시각화 라이브러리\n",
    "\n",
    "NumPy, pandas 등과 함께 쓰이는 편"
   ]
  },
  {
   "cell_type": "code",
   "execution_count": null,
   "metadata": {},
   "outputs": [],
   "source": [
    "import matplotlib.pyplot as plt\n",
    "%matplotlib inline"
   ]
  },
  {
   "cell_type": "code",
   "execution_count": null,
   "metadata": {},
   "outputs": [],
   "source": [
    "#가장 간단한 선 그래프 만들어 보기\n",
    "plt.plot(np.sqrt(np.arange(5))) # 인수가 하나뿐이면 y값으로 넘김\n",
    "plt.title('a simple graph') # 그래프 이름\n",
    "plt.xlabel('x')\n",
    "plt.ylabel('y') # 각 축의 이름 적용\n",
    "plt.show()"
   ]
  },
  {
   "cell_type": "code",
   "execution_count": null,
   "metadata": {},
   "outputs": [],
   "source": [
    "x = np.linspace(-5, 5, 100)\n",
    "\n",
    "plt.plot(x, np.sin(x), color='green', label='sin(x)') # 그래프 색깔 적용\n",
    "plt.plot(x, np.cos(x), color='red', label='cos(x)')\n",
    "plt.title('graph of sin(x) and cos(x)')\n",
    "plt.xlabel('x')\n",
    "plt.ylabel('y')\n",
    "\n",
    "plt.grid(True) # 격자 적용\n",
    "plt.legend()\n",
    "plt.show()"
   ]
  },
  {
   "cell_type": "code",
   "execution_count": null,
   "metadata": {},
   "outputs": [],
   "source": [
    "# 여러 가지 line plot style\n",
    "x = np.arange(0, 5, 0.2)\n",
    "\n",
    "plt.plot(x, x, 'r--', label='y=x')\n",
    "plt.plot(x, x**2, 'bs', label='$y=x^2$')\n",
    "plt.plot(x, x**3, 'g^', label='$y=x^3$')\n",
    "plt.title('$y=x, y=x^2, y=x^3$')\n",
    "plt.xlabel('x')\n",
    "plt.ylabel('y')\n",
    "plt.legend(loc=2)\n",
    "plt.show()"
   ]
  },
  {
   "cell_type": "code",
   "execution_count": null,
   "metadata": {},
   "outputs": [],
   "source": [
    "# scatter plot\n",
    "x = np.random.randn(500)\n",
    "y = np.random.randn(500)\n",
    "\n",
    "plt.scatter(x, y, color='000000', marker='x')\n",
    "\n",
    "plt.xlim(-5, 5)\n",
    "plt.ylim(-3, 3) # 각 축이 나타낼 범위 지정\n",
    "plt.show()"
   ]
  },
  {
   "cell_type": "code",
   "execution_count": null,
   "metadata": {},
   "outputs": [],
   "source": [
    "# 이미지 불러오기\n",
    "image = plt.imread(r'C:\\Users\\USER\\Pictures\\Saved Pictures\\icon_3+(1).gif') # 이미지를 넘파이 배열로 불러옴\n",
    "plt.imshow(image)\n",
    "plt.axis('off') # 축 제거\n",
    "plt.show()"
   ]
  },
  {
   "cell_type": "code",
   "execution_count": null,
   "metadata": {},
   "outputs": [],
   "source": [
    "# 여러 개의 plot을 동시에 띄우기\n",
    "names = ['group_a', 'group_b', 'group_c']\n",
    "values = [1, 10, 100]\n",
    "\n",
    "plt.figure(figsize=(9, 3)) # 사이즈는 직접 정해주지 않아도 됨\n",
    "plt.subplot(1, 3, 1)\n",
    "plt.suptitle('Categorical Plotting', x=0.5, y=1.1)\n",
    "plt.bar(names, values)\n",
    "plt.title('bar chart')\n",
    "plt.subplot(132)\n",
    "plt.scatter(names, values)\n",
    "plt.title('scatter plot')\n",
    "plt.subplot(133)\n",
    "plt.plot(names, values)\n",
    "plt.title('line plot')\n",
    "plt.show()"
   ]
  },
  {
   "cell_type": "markdown",
   "metadata": {},
   "source": [
    "# NumPy와 matplotlib 적용해 보기\n",
    "\n",
    "간단한 선형이진분류기를 학습시켜 보고, 그 과정을 시각화해 보자"
   ]
  },
  {
   "cell_type": "code",
   "execution_count": null,
   "metadata": {},
   "outputs": [],
   "source": [
    "from sklearn.datasets.samples_generator import make_blobs"
   ]
  },
  {
   "cell_type": "code",
   "execution_count": null,
   "metadata": {},
   "outputs": [],
   "source": [
    "# 데이터 준비\n",
    "XY, labels = make_blobs(n_samples=200, centers=2, random_state=4)\n",
    "labels[labels == 0] = -1\n",
    "data = np.hstack((XY, labels.reshape(200, 1)))\n",
    "\n",
    "dataNeg = data[data[:, 2] == -1]\n",
    "dataPos = data[data[:, 2] == 1]\n",
    "\n",
    "plt.scatter(dataNeg[:, 0], dataNeg[:, 1], label=-1, color='r')\n",
    "plt.scatter(dataPos[:, 0], dataPos[:, 1], label=1, color='b')\n",
    "plt.legend()\n",
    "plt.show()"
   ]
  },
  {
   "cell_type": "code",
   "execution_count": null,
   "metadata": {},
   "outputs": [],
   "source": [
    "# 가중치와 편향, 학습률 초기화\n",
    "W = np.array([-0.1, 0.1])\n",
    "b = np.array([0.3])\n",
    "\n",
    "lr = 0.001\n",
    "\n",
    "# 계단 함수 정의\n",
    "def stepFunc(matmul): # np.where() 함수로도 구현할 수 있으나 생략\n",
    "    if matmul > 0:\n",
    "        return 1\n",
    "    else:\n",
    "        return -1"
   ]
  },
  {
   "cell_type": "code",
   "execution_count": null,
   "metadata": {},
   "outputs": [],
   "source": [
    "# 학습 셋 뽑기\n",
    "trainSet = data[np.random.choice(len(data), 30)]\n",
    "print(trainSet)\n",
    "\n",
    "# 학습 횟수 초기화: 여기서는 반복문을 쓰지 않고 직접 일일이 확인해볼 것이기 때문에\n",
    "# 별개의 블럭에 이터레이션 변수를 써놓고 따로 초기화함\n",
    "i = 0"
   ]
  },
  {
   "cell_type": "code",
   "execution_count": null,
   "metadata": {},
   "outputs": [],
   "source": [
    "# 학습시켜 보기\n",
    "print('iteration:', i)\n",
    "print('current weights:', W, b)\n",
    "\n",
    "# i번째 표본의 값과 정답 레이블을 할당하고, 그래프 안에 그 위치를 표시함\n",
    "xy = trainSet[i, :2]\n",
    "answer = trainSet[i, 2]\n",
    "plt.annotate(s='sample here', xy=(xy[0], xy[1]), xytext=(9, 7.5),\n",
    "            arrowprops=dict(facecolor='k'))\n",
    "print('train data:', xy)\n",
    "xPlot = np.linspace(7, 12, 10) # line plot을 그리기 위한 설정\n",
    "plt.plot(xPlot, (-W[0]/W[1])*xPlot-b/W[1], label='previous', color='gray') # 이전 그래프 표시\n",
    "\n",
    "# 행렬곱(여기서는 내적)으로 퍼셉트론 계산 수행, 퍼셉트론은 계단 함수로 분류값 판단\n",
    "sigma = np.matmul(xy, W) + b\n",
    "print('sigma:', sigma)\n",
    "predict = stepFunc(sigma)\n",
    "\n",
    "# 정답 레이블과 비교해 보고, 그 결과를 가중치 업데이트에 반영\n",
    "print('predict:', predict, 'answer:', answer)\n",
    "W += lr * (answer - predict) * xy\n",
    "b += lr * (answer - predict)\n",
    "print('updating values:', lr * (answer - predict) * xy, lr * (answer - predict))\n",
    "print('updated weights:', W, b)\n",
    "\n",
    "# 지금까지의 학습 결과를 시각화\n",
    "\n",
    "plt.plot(xPlot, (-W[0]/W[1])*xPlot-b/W[1], label='updated', color='m')\n",
    "plt.scatter(dataNeg[:, 0], dataNeg[:, 1], label=-1, color='r')\n",
    "plt.scatter(dataPos[:, 0], dataPos[:, 1], label=1, color='b')\n",
    "plt.xlim(6.5, 12.5)\n",
    "plt.ylim(-2, 8)\n",
    "plt.legend(loc=1)\n",
    "plt.show()\n",
    "\n",
    "i += 1"
   ]
  },
  {
   "cell_type": "code",
   "execution_count": null,
   "metadata": {
    "scrolled": false
   },
   "outputs": [],
   "source": [
    "# 한 에폭(주기)당 20번씩 학습하고, \n",
    "# 그 모델로 30번 테스트하고, \n",
    "# 모두 300에폭 반복했을 때 이 모델의 정답률 시각화\n",
    "epochs = 300\n",
    "sample = 50\n",
    "batch = 20\n",
    "W = np.array([-0.1, 0.1])\n",
    "b = np.array([0.3])\n",
    "lr = 0.001\n",
    "accuracyList = []\n",
    "\n",
    "for epoch in range(epochs):\n",
    "    if epoch % 100 == 0:\n",
    "        print('\\n')\n",
    "        print('-'*70)\n",
    "        print('epoch:', epoch)\n",
    "    mask = np.random.choice(len(data), sample)\n",
    "    trainSet = data[mask[:batch]]\n",
    "    testSet = data[mask[batch:]]\n",
    "    correct = 0\n",
    "    \n",
    "    # 학습\n",
    "    for trainIt in trainSet: \n",
    "        xy = trainIt[:2]\n",
    "        answer = trainIt[2]    \n",
    "        sigma = np.matmul(xy, W) + b\n",
    "        predict = stepFunc(sigma)\n",
    "        W += lr * (answer - predict) * xy\n",
    "        b += lr * (answer - predict)\n",
    "    print('weights learned:', W, 'bias learned:', b)\n",
    "    \n",
    "    # 테스트 후 정확도 평가\n",
    "    for testIt in testSet:\n",
    "        xy = testIt[:2]\n",
    "        answer = testIt[2]\n",
    "        sigma = np.matmul(xy, W) + b\n",
    "        predict = stepFunc(sigma)\n",
    "        if predict == answer:\n",
    "            correct += 1\n",
    "    accuracy = correct / len(testSet)\n",
    "    print('accuracy:', accuracy)\n",
    "    accuracyList.append(accuracy)\n",
    "\n",
    "# 시각화\n",
    "plt.figure(figsize=(20, 10))\n",
    "plt.plot(range(epochs), accuracyList)\n",
    "plt.title('Accuracy')\n",
    "plt.show()"
   ]
  },
  {
   "cell_type": "markdown",
   "metadata": {},
   "source": [
    "# 더 알아보기\n",
    "\n",
    "NumPy 도큐멘테이션 https://docs.scipy.org/doc/numpy/reference/index.html\n",
    "\n",
    "Matplotlib https://matplotlib.org\n",
    "\n",
    "갤러리 https://matplotlib.org/gallery/index.html\n",
    "\n",
    "Matplotlib 기반 시각화 라이브러리인 seaborn https://seaborn.pydata.org/"
   ]
  }
 ],
 "metadata": {
  "kernelspec": {
   "display_name": "Python 3",
   "language": "python",
   "name": "python3"
  },
  "language_info": {
   "codemirror_mode": {
    "name": "ipython",
    "version": 3
   },
   "file_extension": ".py",
   "mimetype": "text/x-python",
   "name": "python",
   "nbconvert_exporter": "python",
   "pygments_lexer": "ipython3",
   "version": "3.7.1"
  }
 },
 "nbformat": 4,
 "nbformat_minor": 2
}
