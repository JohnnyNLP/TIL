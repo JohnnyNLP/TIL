{
 "cells": [
  {
   "cell_type": "code",
   "execution_count": 1,
   "metadata": {},
   "outputs": [
    {
     "name": "stdout",
     "output_type": "stream",
     "text": [
      "   Supplier Name Invoice Number  Part Number      Cost Purchase Date\n",
      "0     Supplier X       001-1001         2341  $500.00      1/20/2014\n",
      "1     Supplier X       001-1001         2341  $500.00      1/20/2014\n",
      "2     Supplier X       001-1001         5467  $750.00      1/20/2014\n",
      "3     Supplier X       001-1001         5467  $750.00      1/20/2014\n",
      "4     Supplier Y        50-9501         7009  $250.00      1/30/2014\n",
      "5     Supplier Y        50-9501         7009  $250.00      1/30/2014\n",
      "6     Supplier Y        50-9505         6650  $125.00       2/3/2014\n",
      "7     Supplier Y        50-9505         6650  $125.00       2/3/2014\n",
      "8     Supplier Z       920-4803         3321  $615.00       2/3/2014\n",
      "9     Supplier Z       920-4804         3321  $615.00      2/10/2014\n",
      "10    Supplier Z       920-4805         3321  $615.00      2/17/2014\n",
      "11    Supplier Z       920-4806         3321  $615.00      2/24/2014\n"
     ]
    }
   ],
   "source": [
    "import pandas as pd\n",
    "data_frame = pd.read_csv('supplier_data.csv')\n",
    "print(data_frame)\n",
    "data_frame.to_csv('pandas_output.csv', index=False)"
   ]
  },
  {
   "cell_type": "code",
   "execution_count": 14,
   "metadata": {},
   "outputs": [
    {
     "name": "stdout",
     "output_type": "stream",
     "text": [
      "   Customer ID       Customer Name Invoice Number  Sale Amount Purchase Date\n",
      "0         1234          John Smith       100-0002         1200      1/1/2013\n",
      "1         2345       Mary Harrison       100-0003         1425      1/6/2013\n",
      "2         3456          Lucy Gomez       100-0004         1390     1/11/2013\n",
      "3         4567        Rupert Jones       100-0005         1257     1/18/2013\n",
      "4         5678       Jenny Walters       100-0006         1725     1/24/2013\n",
      "5         6789  Samantha Donaldson       100-0007         1995     1/31/2013\n"
     ]
    }
   ],
   "source": [
    "data_frame = pd.read_excel('sales_2013.xlsx', sheet_name = 'january_2013', index_col=None)\n",
    "print(data_frame)"
   ]
  },
  {
   "cell_type": "code",
   "execution_count": 15,
   "metadata": {},
   "outputs": [
    {
     "name": "stdout",
     "output_type": "stream",
     "text": [
      "   Customer ID       Customer Name Invoice Number  Sale Amount Purchase Date\n",
      "1         2345       Mary Harrison       100-0003         1425      1/6/2013\n",
      "4         5678       Jenny Walters       100-0006         1725     1/24/2013\n",
      "5         6789  Samantha Donaldson       100-0007         1995     1/31/2013\n"
     ]
    }
   ],
   "source": [
    "#파일 필터링 하기\n",
    "data_frame_value_meets_condition = data_frame[(data_frame['Sale Amount'].astype(float)>1400.0)]\n",
    "print(data_frame_value_meets_condition)"
   ]
  },
  {
   "cell_type": "code",
   "execution_count": 16,
   "metadata": {},
   "outputs": [
    {
     "name": "stdout",
     "output_type": "stream",
     "text": [
      "   Customer ID       Customer Name Invoice Number  Sale Amount Purchase Date\n",
      "4         5678       Jenny Walters       100-0006         1725     1/24/2013\n",
      "5         6789  Samantha Donaldson       100-0007         1995     1/31/2013\n"
     ]
    }
   ],
   "source": [
    "#특정 날짜 포함하는 자료만 출력하기\n",
    "important_dates=['1/24/2013', '1/31/2013']\n",
    "data_frame_value_in_set = data_frame[data_frame['Purchase Date'].isin(important_dates)]\n",
    "print(data_frame_value_in_set)"
   ]
  },
  {
   "cell_type": "code",
   "execution_count": 18,
   "metadata": {},
   "outputs": [
    {
     "name": "stdout",
     "output_type": "stream",
     "text": [
      "        Customer Name Purchase Date\n",
      "0          John Smith      1/1/2013\n",
      "1       Mary Harrison      1/6/2013\n",
      "2          Lucy Gomez     1/11/2013\n",
      "3        Rupert Jones     1/18/2013\n",
      "4       Jenny Walters     1/24/2013\n",
      "5  Samantha Donaldson     1/31/2013\n"
     ]
    }
   ],
   "source": [
    "#헤더 사용(iloc)\n",
    "data_frame_column_by_index=data_frame.iloc[:, [1,4]]\n",
    "print(data_frame_column_by_index)"
   ]
  },
  {
   "cell_type": "code",
   "execution_count": 19,
   "metadata": {},
   "outputs": [
    {
     "name": "stdout",
     "output_type": "stream",
     "text": [
      "   Customer ID Purchase Date\n",
      "0         1234      1/1/2013\n",
      "1         2345      1/6/2013\n",
      "2         3456     1/11/2013\n",
      "3         4567     1/18/2013\n",
      "4         5678     1/24/2013\n",
      "5         6789     1/31/2013\n"
     ]
    }
   ],
   "source": [
    "#헤더 사용(loc)\n",
    "data_frame_column_by_name = data_frame.loc[:, ['Customer ID', 'Purchase Date']]\n",
    "print(data_frame_column_by_name)"
   ]
  },
  {
   "cell_type": "code",
   "execution_count": 21,
   "metadata": {},
   "outputs": [
    {
     "name": "stdout",
     "output_type": "stream",
     "text": [
      "   Customer ID  Customer Name Invoice Number  Sale Amount Purchase Date\n",
      "0         7654   Roger Lipney       100-0010         2135     2/15/2013\n",
      "1         6543     Rachel Paz       100-0017         2042     3/22/2013\n",
      "2         4321  Susan Wallace       100-0019         2280     3/30/2013\n"
     ]
    }
   ],
   "source": [
    "#모든 워크시트에서 특정 행 필터링하기\n",
    "data_frame = pd.read_excel('sales_2013.xlsx', sheet_name=None, index_col=None)\n",
    "#sheet_name에 None을 주면 엑셀 파일 전체를 가져오게 된다.\n",
    "#이 경우에 불러온 데이터 프레임은 각 시트명을 키값으로 하는 딕셔너리 형태가 된다.\n",
    "row_output = []\n",
    "for worksheet_name, data in data_frame.items():\n",
    "    row_output.append(data[data['Sale Amount'].replace('$', '').replace(' ,','').astype(float) > 2000.0])\n",
    "#리스트는 데이터 프레임도 담을 수 있다. 이를 합치는 것이 concat 기능이다.\n",
    "filtered_rows=pd.concat(row_output, axis=0, ignore_index = True)\n",
    "print(filtered_rows)"
   ]
  },
  {
   "cell_type": "code",
   "execution_count": 22,
   "metadata": {},
   "outputs": [
    {
     "name": "stdout",
     "output_type": "stream",
     "text": [
      "         Customer Name  Sale Amount\n",
      "0           John Smith         1200\n",
      "1        Mary Harrison         1425\n",
      "2           Lucy Gomez         1390\n",
      "3         Rupert Jones         1257\n",
      "4        Jenny Walters         1725\n",
      "5   Samantha Donaldson         1995\n",
      "6        Daniel Farber         1115\n",
      "7          Laney Stone         1367\n",
      "8         Roger Lipney         2135\n",
      "9        Thomas Haines         1346\n",
      "10         Anushka Vaz         1560\n",
      "11      Harriet Cooper         1852\n",
      "12          John Smith         1350\n",
      "13           Tony Song         1167\n",
      "14      Marry Harrison         1789\n",
      "15          Rachel Paz         2042\n",
      "16          Lucy Gomez         1511\n",
      "17       Susan Wallace         2280\n"
     ]
    }
   ],
   "source": [
    "#모든 워크시트에서 특정 열 선택하기\n",
    "column_output=[]\n",
    "for worksheet_name, data in data_frame.items():\n",
    "    column_output.append(data.loc[:, ['Customer Name', 'Sale Amount']])\n",
    "selected_columns = pd.concat(column_output, axis=0, ignore_index=True)\n",
    "print(selected_columns)"
   ]
  },
  {
   "cell_type": "code",
   "execution_count": 24,
   "metadata": {},
   "outputs": [
    {
     "name": "stdout",
     "output_type": "stream",
     "text": [
      "   Customer ID  Customer Name Invoice Number  Sale Amount Purchase Date\n",
      "0         1234     John Smith       100-0002         1200      1/1/2013\n",
      "1         2345  Mary Harrison       100-0003         1425      1/6/2013\n",
      "2         3456     Lucy Gomez       100-0004         1390     1/11/2013\n",
      "3         4567   Rupert Jones       100-0005         1257     1/18/2013\n",
      "4         5678  Jenny Walters       100-0006         1725     1/24/2013\n",
      "--------------------\n",
      "    Customer ID   Customer Name Invoice Number  Sale Amount Purchase Date\n",
      "13         8765       Tony Song       100-0015         1167      3/8/2013\n",
      "14         2345  Marry Harrison       100-0016         1789     3/17/2013\n",
      "15         6543      Rachel Paz       100-0017         2042     3/22/2013\n",
      "16         3456      Lucy Gomez       100-0018         1511     3/28/2013\n",
      "17         4321   Susan Wallace       100-0019         2280     3/30/2013\n",
      "--------------------\n",
      "total sales:  28506.0\n",
      "average sales:  1583.67\n"
     ]
    },
    {
     "data": {
      "image/png": "[encoded data removed]",
      "text/plain": [
       "<Figure size 432x288 with 1 Axes>"
      ]
     },
     "metadata": {
      "needs_background": "light"
     },
     "output_type": "display_data"
    }
   ],
   "source": [
    "#합과 평균 구하기 - pd.sum(), pd.mean()을 사용한다.\n",
    "import pandas as pd\n",
    "import matplotlib.pyplot as plt\n",
    "%matplotlib inline\n",
    "\n",
    "df = \\\n",
    "pd.read_excel('sales_2013.xlsx', sheet_name = None, index_col=None)\n",
    "row_list = []\n",
    "for worksheet_name, data in df.items():\n",
    "    row_list.append(data)\n",
    "data_frame = pd.concat(row_list, axis=0, ignore_index=True)\n",
    "\n",
    "\n",
    "print(data_frame.head())\n",
    "print('-'*20)\n",
    "print(data_frame.tail())\n",
    "print('-'*20)\n",
    "\n",
    "\n",
    "total_sales = \\\n",
    "pd.DataFrame([float(str(value).strip('$').replace(',','')) \\\n",
    "              for value in data_frame.loc[:, 'Sale Amount']]).sum()\n",
    "average_sales = \\\n",
    "pd.DataFrame([float(str(value).strip('$').replace(',','')) \\\n",
    "             for value in data_frame.loc[:, 'Sale Amount']]).mean()\n",
    "\n",
    "print('total sales: ', round(float(total_sales), 2))\n",
    "print('average sales: ', round(float(average_sales), 2))\n",
    "\n",
    "df2 = data_frame[['Customer Name', 'Sale Amount']]\n",
    "df2.boxplot()\n",
    "plt.show()"
   ]
  },
  {
   "cell_type": "code",
   "execution_count": null,
   "metadata": {},
   "outputs": [],
   "source": []
  }
 ],
 "metadata": {
  "kernelspec": {
   "display_name": "Python 3",
   "language": "python",
   "name": "python3"
  },
  "language_info": {
   "codemirror_mode": {
    "name": "ipython",
    "version": 3
   },
   "file_extension": ".py",
   "mimetype": "text/x-python",
   "name": "python",
   "nbconvert_exporter": "python",
   "pygments_lexer": "ipython3",
   "version": "3.7.3"
  }
 },
 "nbformat": 4,
 "nbformat_minor": 2
}
