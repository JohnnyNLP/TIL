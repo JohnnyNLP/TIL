{
 "cells": [
  {
   "cell_type": "code",
   "execution_count": 28,
   "metadata": {},
   "outputs": [],
   "source": [
    "import os\n",
    "import pandas as pd\n",
    "import random as rd\n",
    "\n",
    "os.chdir(\"C:\\\\Users\\\\Seongsu Park\\\\Desktop\\\\Git\\\\writings\\\\과외 자료집\\토익 기출문제집 단어\")\n",
    "word_list = pd.read_excel('시험장.xlsx', sheet_name = 'Sheet1', index_col=None)\n",
    "days = ['Day1']\n",
    "\n",
    "word_list_day_1 = word_list[word_list['day'].isin(days)]\n",
    "#word_list_day_1 = word_list[(word_list['day'].is('Day1'))]\n"
   ]
  }
 ],
 "metadata": {
  "kernelspec": {
   "display_name": "Python 3",
   "language": "python",
   "name": "python3"
  },
  "language_info": {
   "codemirror_mode": {
    "name": "ipython",
    "version": 3
   },
   "file_extension": ".py",
   "mimetype": "text/x-python",
   "name": "python",
   "nbconvert_exporter": "python",
   "pygments_lexer": "ipython3",
   "version": "3.7.3"
  }
 },
 "nbformat": 4,
 "nbformat_minor": 2
}
