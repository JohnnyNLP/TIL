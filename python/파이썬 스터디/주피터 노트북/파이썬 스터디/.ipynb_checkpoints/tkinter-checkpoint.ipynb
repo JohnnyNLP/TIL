{
 "cells": [
  {
   "cell_type": "code",
   "execution_count": 8,
   "metadata": {},
   "outputs": [],
   "source": [
    "# 이름 입력창 만들기\n",
    "from tkinter import *\n",
    "root = Tk()\n",
    "lbl = Label(root, text=\"이름\")\n",
    "lbl.pack()\n",
    "txt = Entry(root)\n",
    "txt.pack()\n",
    "btn = Button(root, text=\"OK\")\n",
    "btn.pack()\n",
    "root.mainloop()"
   ]
  },
  {
   "cell_type": "code",
   "execution_count": 9,
   "metadata": {},
   "outputs": [],
   "source": [
    "# grid로 구성 바꾸기\n",
    "from tkinter import *\n",
    "root = Tk()\n",
    "lbl = Label(root, text=\"이름\")\n",
    "lbl.grid(row=0, column=0) # 0, 0에 '이름' 놓기\n",
    "txt = Entry(root)\n",
    "txt.grid(row=0, column=1) # 0, 1에 '텍스트 상자'놓기\n",
    "btn = Button(root, text=\"OK\", width=15)\n",
    "btn.grid(row=1, column=1) # 1, 1에 버튼 놓기\n",
    "root.mainloop()"
   ]
  },
  {
   "cell_type": "code",
   "execution_count": 19,
   "metadata": {},
   "outputs": [],
   "source": [
    "# 키 프레스 핸들러\n",
    "from tkinter import *\n",
    "def keyPressed(event):\n",
    "# 키보드 문자하나 출력\n",
    "    print(event.char)\n",
    "    \n",
    "root = Tk()\n",
    "frame = Frame(root, width=100, height=100)\n",
    "# Key 이벤트 바인딩\n",
    "frame.bind('<Key>', keyPressed)\n",
    "frame.place(x=0, y=0)\n",
    "# 키보드 포커를 갖게 한다\n",
    "frame.focus_set()\n",
    "root.mainloop()"
   ]
  },
  {
   "cell_type": "code",
   "execution_count": 21,
   "metadata": {},
   "outputs": [],
   "source": [
    "# 버튼 클릭 핸들러\n",
    "from tkinter import *\n",
    "from tkinter import messagebox\n",
    "root = Tk()\n",
    "# 버튼 클릭 이벤트 핸들러\n",
    "def okClick():\n",
    "    name = txt.get()\n",
    "    messagebox.showinfo(\"이름\", name)\n",
    "    \n",
    "lbl = Label(root, text=\"이름\")\n",
    "lbl.grid(row=0, column=0)\n",
    "txt = Entry(root)\n",
    "txt.grid(row=0, column=1)\n",
    "# 버튼 클릭 이벤트와 핸들러 정의\n",
    "btn = Button(root, text=\"OK\", command=okClick)\n",
    "btn.grid(row=1, column=1)\n",
    "root.mainloop()"
   ]
  },
  {
   "cell_type": "code",
   "execution_count": null,
   "metadata": {},
   "outputs": [],
   "source": []
  }
 ],
 "metadata": {
  "kernelspec": {
   "display_name": "Python 3",
   "language": "python",
   "name": "python3"
  },
  "language_info": {
   "codemirror_mode": {
    "name": "ipython",
    "version": 3
   },
   "file_extension": ".py",
   "mimetype": "text/x-python",
   "name": "python",
   "nbconvert_exporter": "python",
   "pygments_lexer": "ipython3",
   "version": "3.7.3"
  }
 },
 "nbformat": 4,
 "nbformat_minor": 2
}
